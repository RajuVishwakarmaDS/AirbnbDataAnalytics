{
 "cells": [
  {
   "cell_type": "code",
   "execution_count": 30,
   "id": "82d8925d",
   "metadata": {},
   "outputs": [],
   "source": [
    "# import libraries\n",
    "import pandas as pd"
   ]
  },
  {
   "cell_type": "code",
   "execution_count": 35,
   "id": "e9b78918",
   "metadata": {},
   "outputs": [],
   "source": [
    "# ask\n",
    "# 1. how price is related to overall satisfaction"
   ]
  },
  {
   "cell_type": "code",
   "execution_count": 36,
   "id": "5aa47efc",
   "metadata": {},
   "outputs": [],
   "source": [
    "# prepare\n",
    "# acquire data frames\n",
    "df_main = pd.read_csv('airbnb prices.csv')"
   ]
  },
  {
   "cell_type": "code",
   "execution_count": 37,
   "id": "e5768628",
   "metadata": {},
   "outputs": [
    {
     "data": {
      "text/html": [
       "<div>\n",
       "<style scoped>\n",
       "    .dataframe tbody tr th:only-of-type {\n",
       "        vertical-align: middle;\n",
       "    }\n",
       "\n",
       "    .dataframe tbody tr th {\n",
       "        vertical-align: top;\n",
       "    }\n",
       "\n",
       "    .dataframe thead th {\n",
       "        text-align: right;\n",
       "    }\n",
       "</style>\n",
       "<table border=\"1\" class=\"dataframe\">\n",
       "  <thead>\n",
       "    <tr style=\"text-align: right;\">\n",
       "      <th></th>\n",
       "      <th>room_id</th>\n",
       "      <th>survey_id</th>\n",
       "      <th>host_id</th>\n",
       "      <th>room_type</th>\n",
       "      <th>country</th>\n",
       "      <th>city</th>\n",
       "      <th>borough</th>\n",
       "      <th>neighborhood</th>\n",
       "      <th>reviews</th>\n",
       "      <th>overall_satisfaction</th>\n",
       "      <th>accommodates</th>\n",
       "      <th>bedrooms</th>\n",
       "      <th>bathrooms</th>\n",
       "      <th>price</th>\n",
       "      <th>minstay</th>\n",
       "      <th>name</th>\n",
       "      <th>last_modified</th>\n",
       "      <th>latitude</th>\n",
       "      <th>longitude</th>\n",
       "      <th>location</th>\n",
       "    </tr>\n",
       "  </thead>\n",
       "  <tbody>\n",
       "    <tr>\n",
       "      <th>0</th>\n",
       "      <td>10176931</td>\n",
       "      <td>1476</td>\n",
       "      <td>49180562</td>\n",
       "      <td>Shared room</td>\n",
       "      <td>NaN</td>\n",
       "      <td>Amsterdam</td>\n",
       "      <td>NaN</td>\n",
       "      <td>De Pijp / Rivierenbuurt</td>\n",
       "      <td>7</td>\n",
       "      <td>4.5</td>\n",
       "      <td>2</td>\n",
       "      <td>1.0</td>\n",
       "      <td>NaN</td>\n",
       "      <td>156.0</td>\n",
       "      <td>NaN</td>\n",
       "      <td>Red Light/ Canal view apartment (Shared)</td>\n",
       "      <td>2017-07-23 13:06:27.391699</td>\n",
       "      <td>52.356209</td>\n",
       "      <td>4.887491</td>\n",
       "      <td>0101000020E610000033FAD170CA8C13403BC5AA41982D...</td>\n",
       "    </tr>\n",
       "    <tr>\n",
       "      <th>1</th>\n",
       "      <td>8935871</td>\n",
       "      <td>1476</td>\n",
       "      <td>46718394</td>\n",
       "      <td>Shared room</td>\n",
       "      <td>NaN</td>\n",
       "      <td>Amsterdam</td>\n",
       "      <td>NaN</td>\n",
       "      <td>Centrum West</td>\n",
       "      <td>45</td>\n",
       "      <td>4.5</td>\n",
       "      <td>4</td>\n",
       "      <td>1.0</td>\n",
       "      <td>NaN</td>\n",
       "      <td>126.0</td>\n",
       "      <td>NaN</td>\n",
       "      <td>Sunny and Cozy Living room in quite neighbours</td>\n",
       "      <td>2017-07-23 13:06:23.607187</td>\n",
       "      <td>52.378518</td>\n",
       "      <td>4.896120</td>\n",
       "      <td>0101000020E6100000842A357BA095134042791F477330...</td>\n",
       "    </tr>\n",
       "    <tr>\n",
       "      <th>2</th>\n",
       "      <td>14011697</td>\n",
       "      <td>1476</td>\n",
       "      <td>10346595</td>\n",
       "      <td>Shared room</td>\n",
       "      <td>NaN</td>\n",
       "      <td>Amsterdam</td>\n",
       "      <td>NaN</td>\n",
       "      <td>Watergraafsmeer</td>\n",
       "      <td>1</td>\n",
       "      <td>0.0</td>\n",
       "      <td>3</td>\n",
       "      <td>1.0</td>\n",
       "      <td>NaN</td>\n",
       "      <td>132.0</td>\n",
       "      <td>NaN</td>\n",
       "      <td>Amsterdam</td>\n",
       "      <td>2017-07-23 13:06:23.603546</td>\n",
       "      <td>52.338811</td>\n",
       "      <td>4.943592</td>\n",
       "      <td>0101000020E6100000A51133FB3CC613403543AA285E2B...</td>\n",
       "    </tr>\n",
       "    <tr>\n",
       "      <th>3</th>\n",
       "      <td>6137978</td>\n",
       "      <td>1476</td>\n",
       "      <td>8685430</td>\n",
       "      <td>Shared room</td>\n",
       "      <td>NaN</td>\n",
       "      <td>Amsterdam</td>\n",
       "      <td>NaN</td>\n",
       "      <td>Centrum West</td>\n",
       "      <td>7</td>\n",
       "      <td>5.0</td>\n",
       "      <td>4</td>\n",
       "      <td>1.0</td>\n",
       "      <td>NaN</td>\n",
       "      <td>121.0</td>\n",
       "      <td>NaN</td>\n",
       "      <td>Canal boat RIDE in Amsterdam</td>\n",
       "      <td>2017-07-23 13:06:22.689787</td>\n",
       "      <td>52.376319</td>\n",
       "      <td>4.890028</td>\n",
       "      <td>0101000020E6100000DF180280638F134085EE92382B30...</td>\n",
       "    </tr>\n",
       "    <tr>\n",
       "      <th>4</th>\n",
       "      <td>18630616</td>\n",
       "      <td>1476</td>\n",
       "      <td>70191803</td>\n",
       "      <td>Shared room</td>\n",
       "      <td>NaN</td>\n",
       "      <td>Amsterdam</td>\n",
       "      <td>NaN</td>\n",
       "      <td>De Baarsjes / Oud West</td>\n",
       "      <td>1</td>\n",
       "      <td>0.0</td>\n",
       "      <td>2</td>\n",
       "      <td>1.0</td>\n",
       "      <td>NaN</td>\n",
       "      <td>93.0</td>\n",
       "      <td>NaN</td>\n",
       "      <td>One room for rent in a three room appartment</td>\n",
       "      <td>2017-07-23 13:06:19.681469</td>\n",
       "      <td>52.370384</td>\n",
       "      <td>4.852873</td>\n",
       "      <td>0101000020E6100000CD902A8A57691340187B2FBE682F...</td>\n",
       "    </tr>\n",
       "  </tbody>\n",
       "</table>\n",
       "</div>"
      ],
      "text/plain": [
       "    room_id  survey_id   host_id    room_type  country       city  borough  \\\n",
       "0  10176931       1476  49180562  Shared room      NaN  Amsterdam      NaN   \n",
       "1   8935871       1476  46718394  Shared room      NaN  Amsterdam      NaN   \n",
       "2  14011697       1476  10346595  Shared room      NaN  Amsterdam      NaN   \n",
       "3   6137978       1476   8685430  Shared room      NaN  Amsterdam      NaN   \n",
       "4  18630616       1476  70191803  Shared room      NaN  Amsterdam      NaN   \n",
       "\n",
       "              neighborhood  reviews  overall_satisfaction  accommodates  \\\n",
       "0  De Pijp / Rivierenbuurt        7                   4.5             2   \n",
       "1             Centrum West       45                   4.5             4   \n",
       "2          Watergraafsmeer        1                   0.0             3   \n",
       "3             Centrum West        7                   5.0             4   \n",
       "4   De Baarsjes / Oud West        1                   0.0             2   \n",
       "\n",
       "   bedrooms  bathrooms  price  minstay  \\\n",
       "0       1.0        NaN  156.0      NaN   \n",
       "1       1.0        NaN  126.0      NaN   \n",
       "2       1.0        NaN  132.0      NaN   \n",
       "3       1.0        NaN  121.0      NaN   \n",
       "4       1.0        NaN   93.0      NaN   \n",
       "\n",
       "                                             name               last_modified  \\\n",
       "0        Red Light/ Canal view apartment (Shared)  2017-07-23 13:06:27.391699   \n",
       "1  Sunny and Cozy Living room in quite neighbours  2017-07-23 13:06:23.607187   \n",
       "2                                       Amsterdam  2017-07-23 13:06:23.603546   \n",
       "3                    Canal boat RIDE in Amsterdam  2017-07-23 13:06:22.689787   \n",
       "4    One room for rent in a three room appartment  2017-07-23 13:06:19.681469   \n",
       "\n",
       "    latitude  longitude                                           location  \n",
       "0  52.356209   4.887491  0101000020E610000033FAD170CA8C13403BC5AA41982D...  \n",
       "1  52.378518   4.896120  0101000020E6100000842A357BA095134042791F477330...  \n",
       "2  52.338811   4.943592  0101000020E6100000A51133FB3CC613403543AA285E2B...  \n",
       "3  52.376319   4.890028  0101000020E6100000DF180280638F134085EE92382B30...  \n",
       "4  52.370384   4.852873  0101000020E6100000CD902A8A57691340187B2FBE682F...  "
      ]
     },
     "execution_count": 37,
     "metadata": {},
     "output_type": "execute_result"
    }
   ],
   "source": [
    "df_main.head()"
   ]
  },
  {
   "cell_type": "code",
   "execution_count": 38,
   "id": "e2bd4542",
   "metadata": {},
   "outputs": [
    {
     "name": "stdout",
     "output_type": "stream",
     "text": [
      "<class 'pandas.core.frame.DataFrame'>\n",
      "RangeIndex: 18723 entries, 0 to 18722\n",
      "Data columns (total 20 columns):\n",
      " #   Column                Non-Null Count  Dtype  \n",
      "---  ------                --------------  -----  \n",
      " 0   room_id               18723 non-null  int64  \n",
      " 1   survey_id             18723 non-null  int64  \n",
      " 2   host_id               18723 non-null  int64  \n",
      " 3   room_type             18723 non-null  object \n",
      " 4   country               0 non-null      float64\n",
      " 5   city                  18723 non-null  object \n",
      " 6   borough               0 non-null      float64\n",
      " 7   neighborhood          18723 non-null  object \n",
      " 8   reviews               18723 non-null  int64  \n",
      " 9   overall_satisfaction  18723 non-null  float64\n",
      " 10  accommodates          18723 non-null  int64  \n",
      " 11  bedrooms              18723 non-null  float64\n",
      " 12  bathrooms             0 non-null      float64\n",
      " 13  price                 18723 non-null  float64\n",
      " 14  minstay               0 non-null      float64\n",
      " 15  name                  18671 non-null  object \n",
      " 16  last_modified         18723 non-null  object \n",
      " 17  latitude              18723 non-null  float64\n",
      " 18  longitude             18723 non-null  float64\n",
      " 19  location              18723 non-null  object \n",
      "dtypes: float64(9), int64(5), object(6)\n",
      "memory usage: 2.9+ MB\n"
     ]
    }
   ],
   "source": [
    "df_main.info()"
   ]
  },
  {
   "cell_type": "code",
   "execution_count": 39,
   "id": "ee7d53a7",
   "metadata": {},
   "outputs": [
    {
     "data": {
      "text/plain": [
       "(18723, 20)"
      ]
     },
     "execution_count": 39,
     "metadata": {},
     "output_type": "execute_result"
    }
   ],
   "source": [
    "df_main.shape"
   ]
  },
  {
   "cell_type": "code",
   "execution_count": 40,
   "id": "cd369efa",
   "metadata": {},
   "outputs": [
    {
     "data": {
      "text/plain": [
       "Index(['room_id', 'survey_id', 'host_id', 'room_type', 'country', 'city',\n",
       "       'borough', 'neighborhood', 'reviews', 'overall_satisfaction',\n",
       "       'accommodates', 'bedrooms', 'bathrooms', 'price', 'minstay', 'name',\n",
       "       'last_modified', 'latitude', 'longitude', 'location'],\n",
       "      dtype='object')"
      ]
     },
     "execution_count": 40,
     "metadata": {},
     "output_type": "execute_result"
    }
   ],
   "source": [
    "df_main.columns"
   ]
  },
  {
   "cell_type": "code",
   "execution_count": 41,
   "id": "ca09e199",
   "metadata": {},
   "outputs": [
    {
     "data": {
      "text/plain": [
       "room_id                 18723\n",
       "survey_id                   1\n",
       "host_id                 15943\n",
       "room_type                   3\n",
       "country                     0\n",
       "city                        1\n",
       "borough                     0\n",
       "neighborhood               23\n",
       "reviews                   284\n",
       "overall_satisfaction        9\n",
       "accommodates               16\n",
       "bedrooms                   11\n",
       "bathrooms                   0\n",
       "price                     423\n",
       "minstay                     0\n",
       "name                    18150\n",
       "last_modified           18723\n",
       "latitude                15595\n",
       "longitude               17157\n",
       "location                18723\n",
       "dtype: int64"
      ]
     },
     "execution_count": 41,
     "metadata": {},
     "output_type": "execute_result"
    }
   ],
   "source": [
    "# number of unique values\n",
    "df_main.nunique()"
   ]
  },
  {
   "cell_type": "code",
   "execution_count": 42,
   "id": "891699b9",
   "metadata": {},
   "outputs": [
    {
     "data": {
      "text/plain": [
       "room_id                     0\n",
       "survey_id                   0\n",
       "host_id                     0\n",
       "room_type                   0\n",
       "country                 18723\n",
       "city                        0\n",
       "borough                 18723\n",
       "neighborhood                0\n",
       "reviews                     0\n",
       "overall_satisfaction        0\n",
       "accommodates                0\n",
       "bedrooms                    0\n",
       "bathrooms               18723\n",
       "price                       0\n",
       "minstay                 18723\n",
       "name                       52\n",
       "last_modified               0\n",
       "latitude                    0\n",
       "longitude                   0\n",
       "location                    0\n",
       "dtype: int64"
      ]
     },
     "execution_count": 42,
     "metadata": {},
     "output_type": "execute_result"
    }
   ],
   "source": [
    "# number of null data\n",
    "df_main.isnull().sum()"
   ]
  },
  {
   "cell_type": "code",
   "execution_count": 43,
   "id": "f423d397",
   "metadata": {},
   "outputs": [],
   "source": [
    "# clean data\n",
    "# 1. check for nulls within the dataframe\n",
    "# since country contains all null values, we need to replace it with some relevant value\n",
    "# we already have latitude and longitude value, so we can parse country from this\n",
    "df_main.country = 'raju'"
   ]
  },
  {
   "cell_type": "code",
   "execution_count": 47,
   "id": "46456cf4",
   "metadata": {},
   "outputs": [
    {
     "ename": "TypeError",
     "evalue": "'DataFrame' object is not callable",
     "output_type": "error",
     "traceback": [
      "\u001b[1;31m---------------------------------------------------------------------------\u001b[0m",
      "\u001b[1;31mTypeError\u001b[0m                                 Traceback (most recent call last)",
      "Input \u001b[1;32mIn [47]\u001b[0m, in \u001b[0;36m<cell line: 1>\u001b[1;34m()\u001b[0m\n\u001b[1;32m----> 1\u001b[0m \u001b[43mdf_main\u001b[49m\u001b[43m(\u001b[49m\u001b[43mcolumns\u001b[49m\u001b[38;5;241;43m=\u001b[39;49m\u001b[43m[\u001b[49m\u001b[38;5;124;43m'\u001b[39;49m\u001b[38;5;124;43mprice\u001b[39;49m\u001b[38;5;124;43m'\u001b[39;49m\u001b[43m,\u001b[49m\u001b[43m \u001b[49m\u001b[38;5;124;43m'\u001b[39;49m\u001b[38;5;124;43moverall_satisfaction\u001b[39;49m\u001b[38;5;124;43m'\u001b[39;49m\u001b[43m]\u001b[49m\u001b[43m)\u001b[49m\n",
      "\u001b[1;31mTypeError\u001b[0m: 'DataFrame' object is not callable"
     ]
    }
   ],
   "source": [
    "df_main(columns=['price', 'overall_satisfaction'])"
   ]
  },
  {
   "cell_type": "code",
   "execution_count": null,
   "id": "69542a1e",
   "metadata": {},
   "outputs": [],
   "source": []
  }
 ],
 "metadata": {
  "kernelspec": {
   "display_name": "Python 3 (ipykernel)",
   "language": "python",
   "name": "python3"
  },
  "language_info": {
   "codemirror_mode": {
    "name": "ipython",
    "version": 3
   },
   "file_extension": ".py",
   "mimetype": "text/x-python",
   "name": "python",
   "nbconvert_exporter": "python",
   "pygments_lexer": "ipython3",
   "version": "3.9.12"
  }
 },
 "nbformat": 4,
 "nbformat_minor": 5
}
